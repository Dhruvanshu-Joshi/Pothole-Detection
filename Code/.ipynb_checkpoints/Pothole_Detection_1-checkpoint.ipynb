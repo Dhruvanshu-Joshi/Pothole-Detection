{
 "cells": [
  {
   "cell_type": "code",
   "execution_count": 1,
   "id": "2e89726a",
   "metadata": {},
   "outputs": [],
   "source": [
    "import cv2\n",
    "import numpy as np\n",
    "# import pygame\n",
    "import cv2 as cv\n",
    "import time\n",
    "#import smtplib\n",
    "from matplotlib import pyplot as plt"
   ]
  },
  {
   "cell_type": "code",
   "execution_count": 5,
   "id": "439837db",
   "metadata": {},
   "outputs": [
    {
     "data": {
      "text/plain": [
       "(([], []), ([], []))"
      ]
     },
     "execution_count": 5,
     "metadata": {},
     "output_type": "execute_result"
    },
    {
     "data": {
      "image/png": "[encoded data removed]",
      "text/plain": [
       "<Figure size 432x288 with 1 Axes>"
      ]
     },
     "metadata": {},
     "output_type": "display_data"
    }
   ],
   "source": [
    "imgray = np.load('image_1.npy')\n",
    "# CODE TO CONVERT TO GRAYSCALE\n",
    "\n",
    "\n",
    "# gray1 = cv2.cvtColor(disparity,cv2.COLOR_BGR2GRAY)\n",
    "# save the image\n",
    "# cv2.imwrite('graypothholeresult.jpg', gray1)\n",
    "#CONTOUR DETECTION CODE\n",
    "# imgray = cv2.cvtColor(disparity,cv2.COLOR_BGR2GRAY)\n",
    "ret,thresh = cv2.threshold(imgray,127,255,0)\n",
    "\n",
    "contours1, _ = cv2.findContours(thresh,cv2.RETR_TREE,cv2.CHAIN_APPROX_NONE)\n",
    "contours2, _ = cv2.findContours(thresh,cv2.RETR_TREE,cv2.CHAIN_APPROX_SIMPLE)\n",
    "\n",
    "#img1 = im.copy()\n",
    "img2 = disparity.copy()\n",
    "\n",
    "#out = cv2.drawContours(img1, contours1, -1, (255,0,0), 2)\n",
    "out = cv2.drawContours(img2, contours2, -1, (250,250,250),1)\n",
    "#out = np.hstack([img1, img2])\n",
    "cv2.imshow('img1',img2)\n",
    "cv2.waitKey(0)\n",
    "plt.subplot(331),plt.imshow(imgray),plt.title('GRAY')\n",
    "plt.xticks([]), plt.yticks([])"
   ]
  },
  {
   "cell_type": "code",
   "execution_count": null,
   "id": "4dc33c38",
   "metadata": {},
   "outputs": [],
   "source": []
  }
 ],
 "metadata": {
  "kernelspec": {
   "display_name": "Python 3 (ipykernel)",
   "language": "python",
   "name": "python3"
  },
  "language_info": {
   "codemirror_mode": {
    "name": "ipython",
    "version": 3
   },
   "file_extension": ".py",
   "mimetype": "text/x-python",
   "name": "python",
   "nbconvert_exporter": "python",
   "pygments_lexer": "ipython3",
   "version": "3.9.7"
  }
 },
 "nbformat": 4,
 "nbformat_minor": 5
}
