{
 "cells": [
  {
   "cell_type": "code",
   "execution_count": 2,
   "id": "e2782815",
   "metadata": {},
   "outputs": [],
   "source": [
    "import cv2\n",
    "import numpy as np\n",
    "import matplotlib.pyplot as plt\n",
    "from sklearn import linear_model\n",
    "from mpl_toolkits import mplot3d\n",
    "from matplotlib import cm\n",
    "import scipy.optimize\n",
    "from scipy.stats import cauchy\n",
    "import math\n",
    "\n",
    "# The input depth map being rectified itself and due to problems like occlusion,etc. contains many garbage values\n",
    "# These garbage values misleads the surface fit form\n",
    "# hence we assign a value such that its effect is minimised \n",
    "# Hence ,  we assign the average value\n",
    "\n",
    "def Prepare_Data_without_outliers(depth ,depth3d , min_d , max_d ):\n",
    "    sum_dis = 0 # store the sum of all the depth values in a variable\n",
    "    disp_no =0 # store the total number of depth values\n",
    "    for i in range(depth.shape[0]):\n",
    "        for j in range(depth.shape[1]):\n",
    "            if depth[i][j]>=min_d and depth[i][j]<=max_d :\n",
    "                sum_dis= sum_dis + depth[i][j]\n",
    "                disp_no = disp_no + 1\n",
    "    avg_depth = sum_dis/disp_no\n",
    "    d1= depth.flatten()\n",
    "    for i in range(depth.shape[0]):\n",
    "        for j in range(depth.shape[1]):\n",
    "            if depth[i][j]<min_d or depth[i][j]>max_d :\n",
    "                depth3d[i][j] = int(avg_depth)\n",
    "\n",
    "    #We seperate out the garbage values and do not consider it while calculating the surfface fit\n",
    "\n",
    "    depth1 = np.zeros((depth.shape[0],depth.shape[1]))\n",
    "    w2 = []\n",
    "    h2 =[]\n",
    "    d2 =[]\n",
    "    for i in range(depth.shape[0]):\n",
    "        for j in range(depth.shape[1]):\n",
    "                if(depth3d[i][j] == int(avg_depth) and depth[i][j]!= int(avg_depth)):\n",
    "                    depth1[i][j]= depth3d[i][j]\n",
    "                else:\n",
    "                    d2.append(depth3d[i][j])\n",
    "                    w2.append(i)\n",
    "                    h2.append(j)\n",
    "    return depth1 , depth3d, d2,w2,h2,d1"
   ]
  }
 ],
 "metadata": {
  "kernelspec": {
   "display_name": "Python 3 (ipykernel)",
   "language": "python",
   "name": "python3"
  },
  "language_info": {
   "codemirror_mode": {
    "name": "ipython",
    "version": 3
   },
   "file_extension": ".py",
   "mimetype": "text/x-python",
   "name": "python",
   "nbconvert_exporter": "python",
   "pygments_lexer": "ipython3",
   "version": "3.9.7"
  }
 },
 "nbformat": 4,
 "nbformat_minor": 5
}
