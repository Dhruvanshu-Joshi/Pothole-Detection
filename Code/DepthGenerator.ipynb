{
 "cells": [
  {
   "cell_type": "code",
   "execution_count": null,
   "id": "d211ff68",
   "metadata": {},
   "outputs": [],
   "source": [
    "import cv2\n",
    "import numpy as np\n",
    "import matplotlib.pyplot as plt\n",
    "from sklearn import linear_model\n",
    "from mpl_toolkits import mplot3d\n",
    "from matplotlib import cm\n",
    "import scipy.optimize\n",
    "from scipy.stats import cauchy\n",
    "import math\n",
    "\n",
    "def load_depth_map(image):\n",
    "    depth = np.load(image) #loading the depth-map by generated from the camera\n",
    "    plt.imshow(depth, \"gray\")\n",
    "    plt.colorbar()\n",
    "    plt.show()\n",
    "    # cv2.imwrite(path + '/'+'image'+ str(p) + '.png',depth)# Save the depth image\n",
    "    return depth\n",
    "\n",
    "    depth3d = np.copy(depth) # save a copy of the depth map in a new variable\n",
    "    sum_dis = 0 # store the sum of all the depth values in a variable\n",
    "    disp_no =0 # store the total number of depth values\n",
    "    width = depth.shape[1] # store the width of depth image\n",
    "    height = depth.shape[0]# store the height of depth image\n",
    "\n",
    "def Surface_chart_of_depth(height,width,depth):\n",
    "    w=[]\n",
    "    h=[]\n",
    "    for i in range(height):\n",
    "            for j in range(width):\n",
    "                w.append(i)\n",
    "                h.append(j)\n",
    "    w1 = np.reshape(w,(height,width))\n",
    "    h1 = np.reshape(h,(height,width))\n",
    "\n",
    "    # charting the surface plot of depth-map for better visualization \n",
    "    fig = plt.figure(figsize =(14, 9))\n",
    "    ax = plt.axes(projection ='3d')\n",
    "    ax.set_title('Robust Regression')\n",
    "    ax.plot_surface(h1,w1 ,depth,linewidth=0, antialiased=False, shade = True, alpha = 0.5)\n",
    "    plt.show()\n",
    "    \n",
    "    return w1,h1,w,h\n",
    "\n",
    "#     max_d = 190 # maximum disparity of Oak-D camera already known\n",
    "#     min_d = (882.5 * 7.5) / 190 # Minimum disparity of Oak-D camera\n"
   ]
  }
 ],
 "metadata": {
  "kernelspec": {
   "display_name": "Python 3 (ipykernel)",
   "language": "python",
   "name": "python3"
  },
  "language_info": {
   "codemirror_mode": {
    "name": "ipython",
    "version": 3
   },
   "file_extension": ".py",
   "mimetype": "text/x-python",
   "name": "python",
   "nbconvert_exporter": "python",
   "pygments_lexer": "ipython3",
   "version": "3.9.7"
  }
 },
 "nbformat": 4,
 "nbformat_minor": 5
}
