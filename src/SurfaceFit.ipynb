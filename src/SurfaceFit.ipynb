{
 "cells": [
  {
   "cell_type": "code",
   "execution_count": 1,
   "id": "93e67253",
   "metadata": {},
   "outputs": [],
   "source": [
    "import cv2\n",
    "import numpy as np\n",
    "import matplotlib.pyplot as plt\n",
    "from sklearn import linear_model\n",
    "from mpl_toolkits import mplot3d\n",
    "from matplotlib import cm\n",
    "import scipy.optimize\n",
    "from scipy.stats import cauchy\n",
    "import math\n",
    "\n",
    "def fun_residual(cf, vars, z):\n",
    "    x, y = vars\n",
    "    return (( cf[0] + cf[1]*x + cf[2]*y + cf[3]*x*x + cf[4]*y*x + cf[5]*y*y ) - z)**2\n",
    "\n",
    "def fun_z(cf, x, y): # calculate the coefficients\n",
    "\n",
    "    return cf[0] + cf[1]*x + cf[2]*y + cf[3]*x*x + cf[4]*y*x + cf[5]*y*y \n",
    "\n",
    "def Surface_fit_of_Road(d2,w2,h2,d1,w1,h1,h,w,height,width):\n",
    "    # Surface fit equation: \n",
    "    # z = a1 + a2x + a3y + a4x^2 + a5xy + a6y^2\n",
    "    # we calculate the residual of actual z value available from depth-map and that we get from this equation and minimize it to get the coefficients\n",
    "\n",
    "    cf0 = np.zeros(6)\n",
    "\n",
    "    res_robust = scipy.optimize.least_squares(fun_residual, cf0, loss='cauchy', f_scale=100, args=((np.array(w2), np.array(h2)), np.array(d2)))\n",
    "\n",
    "    x1 = np.linspace(0, width, 32)\n",
    "\n",
    "    y1 = np.linspace(0, height, 32)\n",
    "    \n",
    "    xv, yv = np.meshgrid(x1, y1)\n",
    "    cfs = res_robust.x\n",
    "    zv =fun_z(cfs, w1, h1)\n",
    "    z1 =zv.flatten()\n",
    "    # Plot the expected surface fit and the scatter plot for a comparitive study \n",
    "    # Creating figure\n",
    "    fig = plt.figure(figsize =(14, 9))\n",
    "    ax = plt.axes(projection ='3d')\n",
    "    ax.set_title('Robust Regression')\n",
    "    ax.plot_surface(h1,w1,zv,linewidth=0, antialiased=False, shade = True, alpha = 0.5)\n",
    "    ax.scatter3D(h, w, d1)\n",
    "    plt.show()\n",
    "    \n",
    "    return zv\n"
   ]
  }
 ],
 "metadata": {
  "kernelspec": {
   "display_name": "Python 3 (ipykernel)",
   "language": "python",
   "name": "python3"
  },
  "language_info": {
   "codemirror_mode": {
    "name": "ipython",
    "version": 3
   },
   "file_extension": ".py",
   "mimetype": "text/x-python",
   "name": "python",
   "nbconvert_exporter": "python",
   "pygments_lexer": "ipython3",
   "version": "3.9.7"
  }
 },
 "nbformat": 4,
 "nbformat_minor": 5
}
