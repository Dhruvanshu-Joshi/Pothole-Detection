{
 "cells": [
  {
   "cell_type": "code",
   "execution_count": null,
   "id": "f27ab2a4",
   "metadata": {},
   "outputs": [],
   "source": [
    "import cv2\n",
    "import numpy as np\n",
    "import matplotlib.pyplot as plt\n",
    "from sklearn import linear_model\n",
    "from mpl_toolkits import mplot3d\n",
    "from matplotlib import cm\n",
    "import scipy.optimize\n",
    "from scipy.stats import cauchy\n",
    "import math\n",
    "\n",
    "def Final_result(top,bottom,right,left,single1,avg_pot,disparity_rect_1):\n",
    "    # Finally we draw the rectangle with its depth\n",
    "    a =1\n",
    "    for x in range(len(single1)):\n",
    "        start_point = (left[x]-5 , top[x]-5)\n",
    "        end_point = (right[x]+5 , bottom[x]-5)\n",
    "        start_point_txt = (left[x]-5 , top[x]-25)\n",
    "        start_point_txt1 = (left[x]-5 , top[x]-10)\n",
    "        color = (0, 0, 0)\n",
    "\n",
    "        # Line thickness of 2 px\n",
    "        thickness = 2\n",
    "        txt = 'Pothole '+str(a)\n",
    "        txt1 = 'distance: '+str(round(avg_pot[x],3))\n",
    "        # Using cv2.rectangle() method\n",
    "        # Draw a rectangle with blue line borders of thickness of 2 px\n",
    "        disparity_rect_1 = cv2.rectangle(disparity_rect_1, start_point, end_point, color, thickness)\n",
    "        disparity_rect_1 = cv2.putText(disparity_rect_1, txt , start_point_txt,\n",
    "                        cv2.FONT_HERSHEY_SIMPLEX, 0.6, (0,0,0), 1)\n",
    "        disparity_rect_1 = cv2.putText(disparity_rect_1, txt1 , start_point_txt1,\n",
    "                        cv2.FONT_HERSHEY_SIMPLEX, 0.6, (0,0,0), 1)\n",
    "        a=a+1\n",
    "    cv2.imshow('Pothole_Detected', disparity_rect_1)\n",
    "    cv2.waitKey(0)\n",
    "    cv2.destroyAllWindows()\n",
    "    plt.imshow(disparity_rect_1 , 'gray')            \n",
    "    plt.colorbar()\n",
    "    plt.show()\n",
    "    \n",
    "    return disparity_rect_1"
   ]
  }
 ],
 "metadata": {
  "kernelspec": {
   "display_name": "Python 3 (ipykernel)",
   "language": "python",
   "name": "python3"
  },
  "language_info": {
   "codemirror_mode": {
    "name": "ipython",
    "version": 3
   },
   "file_extension": ".py",
   "mimetype": "text/x-python",
   "name": "python",
   "nbconvert_exporter": "python",
   "pygments_lexer": "ipython3",
   "version": "3.9.7"
  }
 },
 "nbformat": 4,
 "nbformat_minor": 5
}
