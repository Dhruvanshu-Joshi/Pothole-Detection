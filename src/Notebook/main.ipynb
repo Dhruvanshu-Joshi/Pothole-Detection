{
 "cells": [
  {
   "cell_type": "code",
   "execution_count": null,
   "id": "b3de7255",
   "metadata": {},
   "outputs": [
    {
     "data": {
      "text/plain": [
       "['/home/deimos/Desktop/Pothole-Detection-main/src/Notebook',\n",
       " '/snap/jupyter/6/lib/python37.zip',\n",
       " '/snap/jupyter/6/lib/python3.7',\n",
       " '/snap/jupyter/6/lib/python3.7/lib-dynload',\n",
       " '',\n",
       " '/snap/jupyter/6/lib/python3.7/site-packages',\n",
       " '/snap/jupyter/6/lib/python3.7/site-packages/IPython/extensions',\n",
       " '/home/deimos/snap/jupyter/6/.ipython']"
      ]
     },
     "metadata": {},
     "output_type": "display_data"
    }
   ],
   "source": [
    "# first upload all the .ipynb notebooks and depth image file using this block\n",
    "from google.colab import files\n",
    "uploaded = files.upload()"
   ]
  },
  {
   "cell_type": "code",
   "execution_count": null,
   "id": "fd59eacd",
   "metadata": {},
   "outputs": [
    {
     "ename": "ModuleNotFoundError",
     "evalue": "No module named 'cv2'",
     "output_type": "error",
     "traceback": [
      "\u001b[0;31m---------------------------------------------------------------------------\u001b[0m\n",
      "\u001b[0;31mModuleNotFoundError\u001b[0m                       Traceback (most recent call last)\n",
      "\u001b[0;32m<ipython-input-3-c1395311acd1>\u001b[0m in \u001b[0;36m<module>\u001b[0;34m\u001b[0m\n",
      "\u001b[0;32m----> 1\u001b[0;31m \u001b[0;32mimport\u001b[0m \u001b[0mcv2\u001b[0m\u001b[0;34m\u001b[0m\u001b[0;34m\u001b[0m\u001b[0m\n",
      "\u001b[0m\u001b[1;32m      2\u001b[0m \u001b[0;32mimport\u001b[0m \u001b[0mnumpy\u001b[0m \u001b[0;32mas\u001b[0m \u001b[0mnp\u001b[0m\u001b[0;34m\u001b[0m\u001b[0;34m\u001b[0m\u001b[0m\n",
      "\u001b[1;32m      3\u001b[0m \u001b[0;32mimport\u001b[0m \u001b[0mmatplotlib\u001b[0m\u001b[0;34m.\u001b[0m\u001b[0mpyplot\u001b[0m \u001b[0;32mas\u001b[0m \u001b[0mplt\u001b[0m\u001b[0;34m\u001b[0m\u001b[0;34m\u001b[0m\u001b[0m\n",
      "\u001b[1;32m      4\u001b[0m \u001b[0;32mfrom\u001b[0m \u001b[0msklearn\u001b[0m \u001b[0;32mimport\u001b[0m \u001b[0mlinear_model\u001b[0m\u001b[0;34m\u001b[0m\u001b[0;34m\u001b[0m\u001b[0m\n",
      "\u001b[1;32m      5\u001b[0m \u001b[0;32mfrom\u001b[0m \u001b[0mmpl_toolkits\u001b[0m \u001b[0;32mimport\u001b[0m \u001b[0mmplot3d\u001b[0m\u001b[0;34m\u001b[0m\u001b[0;34m\u001b[0m\u001b[0m\n",
      "\n",
      "\u001b[0;31mModuleNotFoundError\u001b[0m: No module named 'cv2'"
     ]
    }
   ],
   "source": [
    "import cv2\n",
    "import numpy as np\n",
    "import matplotlib.pyplot as plt\n",
    "from sklearn import linear_model\n",
    "from mpl_toolkits import mplot3d\n",
    "from matplotlib import cm\n",
    "import scipy.optimize\n",
    "from scipy.stats import cauchy\n",
    "import math\n",
    "!pip install ipynb\n",
    "from ipynb.fs.full.DepthGenerator import load_depth_map\n",
    "from ipynb.fs.full.DepthGenerator import Surface_chart_of_depth\n",
    "from ipynb.fs.full.data import Prepare_Data_without_outliers\n",
    "from ipynb.fs.full.SurfaceFit import Surface_fit_of_Road\n",
    "from ipynb.fs.full.Detection import pothole_detection\n",
    "from ipynb.fs.full.Labelling import pothole_labelling\n",
    "from ipynb.fs.full.Boxed import Rectangle\n",
    "from ipynb.fs.full.MinimizeError import Eliminate\n",
    "from ipynb.fs.full.Result import Final_result\n",
    "import os\n",
    "\n",
    "def main():\n",
    "    filename = input(\"Enter the name of the file\")\n",
    "    path = os.path.abspath(filename)\n",
    "    depth = load_depth_map(path)\n",
    "    \n",
    "    depth3d = np.copy(depth) # save a copy of the depth map in a new variable\n",
    "    \n",
    "    \n",
    "    width = depth.shape[1] # store the width of depth image\n",
    "    height = depth.shape[0]# store the height of depth image\n",
    "    \n",
    "    max_d = 190 # maximum disparity of Oak-D camera already known\n",
    "    min_d = (882.5 * 7.5) / 190 # Minimum disparity of Oak-D camera\n",
    "    \n",
    "    w1 , h1,w,h = Surface_chart_of_depth(height,width,depth)\n",
    "    \n",
    "    depth1 , depth3d , d2,w2,h2,d1 = Prepare_Data_without_outliers(depth ,depth3d , min_d , max_d )\n",
    "    \n",
    "    Expected_surface = Surface_fit_of_Road(d2,w2,h2,d1,w1,h1,h,w,height,width)\n",
    "    \n",
    "    pothole = pothole_detection(depth,Expected_surface,h1,w1,min_d,max_d)\n",
    "    \n",
    "    single_val,label = pothole_labelling(depth,pothole)\n",
    "    \n",
    "    pothole_boxed,top,bottom,right,left = Rectangle(depth,pothole,single_val,label)\n",
    "    \n",
    "    eliminated_pothole_boxed,top,bottom,right,left,single_val_1,distance = Eliminate(single_val,label,top,bottom,right,left,depth)\n",
    "    \n",
    "    detected_pothole = Final_result(top,bottom,right,left,single_val_1,distance,eliminated_pothole_boxed)\n",
    "\n",
    "if __name__==\"__main__\":\n",
    "    main()"
   ]
  },
  {
   "cell_type": "code",
   "execution_count": null,
   "metadata": {},
   "outputs": [],
   "source": []
  }
 ],
 "metadata": {
  "kernelspec": {
   "display_name": "Python 3",
   "language": "python",
   "name": "python3"
  },
  "language_info": {
   "codemirror_mode": {
    "name": "ipython",
    "version": 3
   },
   "file_extension": ".py",
   "mimetype": "text/x-python",
   "name": "python",
   "nbconvert_exporter": "python",
   "pygments_lexer": "ipython3",
   "version": "3.7.3"
  }
 },
 "nbformat": 4,
 "nbformat_minor": 5
}
